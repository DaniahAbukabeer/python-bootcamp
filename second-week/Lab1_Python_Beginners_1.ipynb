{
  "cells": [
    {
      "cell_type": "markdown",
      "metadata": {
        "id": "zrEBfajgDkk2"
      },
      "source": [
        "### **Short Answer Questions**"
      ]
    },
    {
      "cell_type": "markdown",
      "metadata": {
        "id": "cDDFhz2eD1x0"
      },
      "source": [
        "Ask the user to input his Name, Residence address, Phone Number"
      ]
    },
    {
      "cell_type": "code",
      "execution_count": null,
      "metadata": {
        "id": "2bvF0XLMDjrw"
      },
      "outputs": [],
      "source": [
        "#You Solution:\n",
        "user_name = input('please enter your name')\n",
        "address = input('please enter your address')\n",
        "phone_number = int(input('please enter your phone number'))"
      ]
    },
    {
      "cell_type": "markdown",
      "metadata": {
        "id": "hYOQO2ZVDviM"
      },
      "source": [
        "Define 3 variables each of the type: (int, bool, string)\n",
        "Then print one of them"
      ]
    },
    {
      "cell_type": "code",
      "execution_count": null,
      "metadata": {
        "id": "20FZ54oSEX7Z"
      },
      "outputs": [],
      "source": [
        "#You Solution:\n",
        "number = 5\n",
        "boolian = True\n",
        "yap = \"hellooo :) how are u today? \"\n",
        "\n",
        "print(yap)"
      ]
    },
    {
      "cell_type": "markdown",
      "metadata": {
        "id": "_O5Yg-pbEXZV"
      },
      "source": [
        "Print the: addition, subtraction, division and multiplication of 2 variables."
      ]
    },
    {
      "cell_type": "code",
      "execution_count": null,
      "metadata": {
        "id": "-B0uL-z6DYAC"
      },
      "outputs": [],
      "source": [
        "#You Solution:\n",
        "print(3+4)\n",
        "print(3-4)\n",
        "print(2/1)\n",
        "print(2*2)"
      ]
    },
    {
      "cell_type": "markdown",
      "metadata": {
        "id": "wwTfQ4YqE50C"
      },
      "source": [
        "Write two if statments:\n",
        "\n",
        "1) The first should always run and prints the \"Hello, I run everytime\".\n",
        "\n",
        "2) The second should never run meaning the code inside it will never be executed."
      ]
    },
    {
      "cell_type": "code",
      "execution_count": null,
      "metadata": {
        "id": "hKtSf7NtGNwt"
      },
      "outputs": [],
      "source": [
        "#You Solution:\n",
        "if(True):\n",
        "  print(\"Hello, I run everytime\")\n",
        "if(False):\n",
        "  print(\"I never run\")"
      ]
    },
    {
      "cell_type": "markdown",
      "metadata": {
        "id": "295ny2Clu3DM"
      },
      "source": [
        "## **Converting temperature**\n",
        "write a programe that prompts the user to input the temperature in Celsius and then converts the temperature to Fahrenheit and kelvin\n",
        "\n",
        "Please Note the two equatoins to convert them.\n",
        "\n",
        "*   (°F − 32) × 5/9  = °C\n",
        "*   K − 273.15  = °C\n"
      ]
    },
    {
      "cell_type": "code",
      "execution_count": null,
      "metadata": {
        "id": "WcsvXMXtu4Bx"
      },
      "outputs": [],
      "source": [
        "#Your Solution:\n",
        "C = float(input(\"please enter the temperature in Celsius\"))\n",
        "K = C + 273.15\n",
        "F = C * (9/5) + 32"
      ]
    },
    {
      "cell_type": "markdown",
      "metadata": {
        "id": "9mA1UsSVtKr5"
      },
      "source": [
        "##**BMI Calculator**\n",
        "\n",
        "design a Body Mass Index (BMI) Calculator that prompts the user to input their weight and the unit of weight (either kilograms or pounds), as well as their height in meters.\n",
        "\n",
        "BMI= (weight in kg) / ((height in meters)^2)\n",
        "\n",
        "\n",
        "The calculator should convert the weight to kilograms if it is entered in pounds, and then calculate and display the user's BMI based on these inputs. Additionally, include instructions for interpreting the BMI score according to standard health categories:\n",
        "\n",
        "\n",
        "*   Below 18.5\t: Underweight\n",
        "*   18.5 – 24.9 :  Healthy Weight\n",
        "*   25.0 – 29.9\t : Overweight\n",
        "*   30.0 and Above\t: Obese\n"
      ]
    },
    {
      "cell_type": "code",
      "execution_count": null,
      "metadata": {
        "id": "CpAejo_QtITN"
      },
      "outputs": [],
      "source": [
        "#Your Solution:\n",
        "weight = float(input(\"please enter your weight\"))\n",
        "unit = input(\"did u measure ur weight in kilograms or pounds\")\n",
        "height = float(input(\"please enter your height in meaters\"))\n",
        "\n",
        "if unit == \"pound\" or unit == \"pounds\" or unit == \"Pound\" or unit == \"Pounds\" :\n",
        "  weight = weight * 0.45359237\n",
        "\n",
        "bmi = (weight/(height^2))\n",
        "\n",
        "print(\"your BMI is \",bmi,\" and according to the standard health categories you are\",end=\" \")\n",
        "if bmi>= 30 :\n",
        "  print(\"Obese\")\n",
        "elif bmi >= 25 and bmi <=29 :\n",
        "  print(\"Overweight\")\n",
        "elif bmi>= 18.5 and bmi <=24.9 :\n",
        "  print(\"Healthy weight\")\n",
        "else :\n",
        "  print(\"underweight\")\n",
        "  \n"
      ]
    }
  ],
  "metadata": {
    "colab": {
      "provenance": []
    },
    "kernelspec": {
      "display_name": "Python 3",
      "name": "python3"
    },
    "language_info": {
      "name": "python"
    }
  },
  "nbformat": 4,
  "nbformat_minor": 0
}
